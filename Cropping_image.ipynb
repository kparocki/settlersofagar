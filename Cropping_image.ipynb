{
 "cells": [
  {
   "cell_type": "code",
   "execution_count": null,
   "id": "9282c616",
   "metadata": {},
   "outputs": [],
   "source": [
    "import cv2\n",
    "import numpy as np\n",
    "\n",
    "# Load the image\n",
    "image = cv2.imread('circles_without_outline.jpg')\n",
    "\n",
    "# Convert the image to HSV color space\n",
    "hsv = cv2.cvtColor(image, cv2.COLOR_BGR2HSV)\n",
    "\n",
    "# Define the range of colors for the petri dish (green color)\n",
    "lower_green = np.array([40, 40, 40])\n",
    "upper_green = np.array([80, 255, 255])\n",
    "\n",
    "# Threshold the HSV image to get only green colors (the petri dish)\n",
    "mask = cv2.inRange(hsv, lower_green, upper_green)\n",
    "\n",
    "# Find contours in the mask\n",
    "contours, _ = cv2.findContours(mask, cv2.RETR_EXTERNAL, cv2.CHAIN_APPROX_SIMPLE)\n",
    "\n",
    "# Filter contours based on area to remove small noise\n",
    "min_area = 1000  # Adjust as needed\n",
    "contours = [cnt for cnt in contours if cv2.contourArea(cnt) > min_area]\n",
    "\n",
    "# Crop and save bounding boxes\n",
    "for i, contour in enumerate(contours):\n",
    "    x, y, w, h = cv2.boundingRect(contour)\n",
    "    \n",
    "    # Crop the bounding box region\n",
    "    cropped_image = image[y:y+h, x:x+w]\n",
    "    \n",
    "    # Save the cropped image\n",
    "    cv2.imwrite(f'cropped_petri_dish_{i+1}.jpg', cropped_image)\n"
   ]
  }
 ],
 "metadata": {
  "kernelspec": {
   "display_name": "Python 3 (ipykernel)",
   "language": "python",
   "name": "python3"
  },
  "language_info": {
   "codemirror_mode": {
    "name": "ipython",
    "version": 3
   },
   "file_extension": ".py",
   "mimetype": "text/x-python",
   "name": "python",
   "nbconvert_exporter": "python",
   "pygments_lexer": "ipython3",
   "version": "3.11.5"
  }
 },
 "nbformat": 4,
 "nbformat_minor": 5
}
